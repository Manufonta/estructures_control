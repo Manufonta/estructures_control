{
 "cells": [
  {
   "cell_type": "markdown",
   "metadata": {},
   "source": [
    "***********************\n",
    "# Tasca 3: Estructuras de control\n",
    "*****\n",
    "*****"
   ]
  },
  {
   "cell_type": "markdown",
   "metadata": {},
   "source": [
    "## Ejercicio 1\n",
    "El ejercicio consiste en crear un programa que clasifique una variable numérica en función de la escala Suspenso/Aprobado/Notable/Excelente"
   ]
  },
  {
   "cell_type": "code",
   "execution_count": 7,
   "metadata": {},
   "outputs": [],
   "source": [
    "def nota(a):\n",
    "    if a < 0 or a > 10:\n",
    "        print(\"Debe introducir un número entre 0 y 10\")\n",
    "    elif a < 5:\n",
    "        print(\"Suspenso\")\n",
    "    elif a < 7:\n",
    "        print (\"Aprobado\")\n",
    "    elif a < 9:\n",
    "        print (\"Notable\")\n",
    "    else:\n",
    "        print (\"Excelente\")\n",
    "        "
   ]
  },
  {
   "cell_type": "code",
   "execution_count": 12,
   "metadata": {},
   "outputs": [
    {
     "name": "stdout",
     "output_type": "stream",
     "text": [
      "Excelente\n"
     ]
    }
   ],
   "source": [
    "nota (9)"
   ]
  },
  {
   "cell_type": "markdown",
   "metadata": {},
   "source": [
    "## Ejercicio 2\n",
    "Crea un programa que pregunte dos números. Debe mostrar un mensaje diciendo si el primero es más grande, el segundo es más grande o son iguales."
   ]
  },
  {
   "cell_type": "code",
   "execution_count": 24,
   "metadata": {},
   "outputs": [
    {
     "name": "stdin",
     "output_type": "stream",
     "text": [
      "Introduce un número real x =  e\n",
      "Introduce otro número real y =  pi\n"
     ]
    },
    {
     "name": "stdout",
     "output_type": "stream",
     "text": [
      "¿Pero que haces? Dije un NÚMERO!!\n"
     ]
    }
   ],
   "source": [
    "x = input(\"Introduce un número real x = \")\n",
    "y = input(\"Introduce otro número real y = \")\n",
    "try:\n",
    "    x = float(x)\n",
    "    y = float(y)\n",
    "    if x > y:\n",
    "        print (\"X es mayor que y\")\n",
    "    elif y > x:\n",
    "        print(\"Y es mayor que X\")\n",
    "    else:\n",
    "        print(\"X es igual a Y\")\n",
    "except:\n",
    "    print(\"¿Pero que haces? Dije un NÚMERO!!\")\n",
    "          \n"
   ]
  },
  {
   "cell_type": "markdown",
   "metadata": {},
   "source": [
    "## Ejercicio 3\n",
    "Crea un programa que te pregunte el nombre y te pida un número. Si el número es 0, debería mostrar un mensaje de error. En caso contrario, debería mostrar el nombre repetido tantas veces como indique el número."
   ]
  },
  {
   "cell_type": "code",
   "execution_count": 34,
   "metadata": {},
   "outputs": [
    {
     "name": "stdin",
     "output_type": "stream",
     "text": [
      "Introduzca su nombre:  Manu\n",
      "Introduza un número:  55\n"
     ]
    },
    {
     "name": "stdout",
     "output_type": "stream",
     "text": [
      "Manu Manu Manu Manu Manu Manu Manu Manu Manu Manu Manu Manu Manu Manu Manu Manu Manu Manu Manu Manu Manu Manu Manu Manu Manu Manu Manu Manu Manu Manu Manu Manu Manu Manu Manu Manu Manu Manu Manu Manu Manu Manu Manu Manu Manu Manu Manu Manu Manu Manu Manu Manu Manu Manu Manu \n"
     ]
    }
   ],
   "source": [
    "nombre = input(\"Introduzca su nombre: \")\n",
    "n = input(\"Introduza un número: \")\n",
    "try:\n",
    "    n = int(n)\n",
    "    if n <= 0:\n",
    "        print(\"El número debe ser mayor que cero\")\n",
    "    else:\n",
    "        print((nombre + \" \")*n)\n",
    "except:\n",
    "    print (\"Debes introducir un número entero\")"
   ]
  },
  {
   "cell_type": "markdown",
   "metadata": {},
   "source": [
    "## Ejercicio 4\n",
    "Crea un programa que, dada una lista cualquiera, te diga si es simétrica o no. Si lo es, que diga cuántos elementos tiene."
   ]
  },
  {
   "cell_type": "code",
   "execution_count": 113,
   "metadata": {},
   "outputs": [],
   "source": [
    "def simetria(lista):\n",
    "    s = 0\n",
    "    for l in range(len(lista)):\n",
    "        if lista [l] != lista [-(l+1)]:\n",
    "            print (\"La lista no es simétrica\")\n",
    "            s = 1\n",
    "            break\n",
    "    if s == 0: print (\"La lista es simétrica y tiene {} elementos\".format(len(lista)))\n",
    "    "
   ]
  },
  {
   "cell_type": "code",
   "execution_count": 115,
   "metadata": {},
   "outputs": [
    {
     "name": "stdout",
     "output_type": "stream",
     "text": [
      "La lista es simétrica y tiene 7 elementos\n"
     ]
    }
   ],
   "source": [
    "lis = [\"Hola\", 20, False, True, False, 20, \"Hola\"]    \n",
    "simetria(lis)"
   ]
  },
  {
   "cell_type": "markdown",
   "metadata": {},
   "source": [
    "## Ejercicio 5\n",
    "Crea un programa que, dada una lista, te diga cuantos números coinciden con su posición."
   ]
  },
  {
   "cell_type": "code",
   "execution_count": 122,
   "metadata": {},
   "outputs": [],
   "source": [
    "def posiciones(lista):\n",
    "    coinc = list()\n",
    "    for l in range(len(lista)):\n",
    "        if lista [l] == l:\n",
    "            coinc.append(l) \n",
    "    print(\"Los siguientes números coinciden: \", coinc)\n"
   ]
  },
  {
   "cell_type": "code",
   "execution_count": 125,
   "metadata": {},
   "outputs": [
    {
     "name": "stdout",
     "output_type": "stream",
     "text": [
      "Los siguientes números coinciden:  [0, 3, 4, 5]\n"
     ]
    }
   ],
   "source": [
    "listilla = [0,9,8,3,4,5,\"hola\"]\n",
    "posiciones(listilla)"
   ]
  }
 ],
 "metadata": {
  "kernelspec": {
   "display_name": "Python 3",
   "language": "python",
   "name": "python3"
  },
  "language_info": {
   "codemirror_mode": {
    "name": "ipython",
    "version": 3
   },
   "file_extension": ".py",
   "mimetype": "text/x-python",
   "name": "python",
   "nbconvert_exporter": "python",
   "pygments_lexer": "ipython3",
   "version": "3.8.5"
  }
 },
 "nbformat": 4,
 "nbformat_minor": 4
}
